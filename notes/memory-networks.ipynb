{
 "cells": [
  {
   "cell_type": "markdown",
   "metadata": {},
   "source": [
    "# [Memory Networks](https://arxiv.org/pdf/1410.3916.pdf)"
   ]
  },
  {
   "cell_type": "markdown",
   "metadata": {},
   "source": [
    "## Summary\n",
    "\n",
    "- ML models lack a away to read and write to a long-term memory\n",
    "- RNN can preserve info in their weights and hidden states but they are too small and not compartmentalized to precisely access\n",
    "- Memory networks have a memory component that can be read from and written to"
   ]
  },
  {
   "cell_type": "markdown",
   "metadata": {},
   "source": [
    "## Notes\n",
    "\n",
    "- Memory Network (MN) consists of a memory **m** with array of objects $m_i$\n",
    "- For a given input x, it has following four components\n",
    "    - I : input feature map - converts input to feature representations - $I(x)$\n",
    "    - G : generalization - updates old memories given new inputs - $m_i = G(m_i, I(x), m), ∀i$\n",
    "    - O : output feature map - produces new output given input and memory - $o = O(I(x), m)$\n",
    "    - R : response - converts output into desired format - $r = R(o)$\n"
   ]
  },
  {
   "cell_type": "markdown",
   "metadata": {
    "collapsed": true
   },
   "source": [
    "## Model\n",
    "\n",
    "- I module uses an embedding model to convert input text $x$ to embedding vector $I(x)$\n",
    "- G module is used to store the new memory\n",
    "- O module produces output features by finding $k$ supporting memories given $x$\n",
    "    - for $k=1$, $o_1 = O_1(x,m) = \\operatorname*{arg\\,max}_{i=1,2...N} s_O(x,m_i)$\n",
    "    - for $k=2$, $o_2 = O_2(x,m) = \\operatorname*{arg\\,max}_{i=1,2...N} s_O([x, m_{o1}],m_i)$\n",
    "    - $s_O$ is a function that scores the match between the pair of sentences $x$ and $m_i$\n",
    "- $R$ module produces a response $r$ (can use RNN here)\n",
    "    - $r = \\operatorname*{arg\\,max}_{w \\in W} s_R([x, m_{o1}, m_{o2}], w)$\n",
    "    - $W$ is the set of all words in the dictionary, and $s_R$ is a function that scores the match\n",
    "- model training is in fully supervised setting where labels as well as supporting memories are also provided "
   ]
  },
  {
   "cell_type": "markdown",
   "metadata": {},
   "source": [
    "## Inference\n",
    "\n",
    "- This gives a basic overview of how a Memory Network is structured\n",
    "- There are basically 4 modules involved with their parameters which are learned during training\n",
    "- Haven't gone into details of training and complexties as it may differ with application\n",
    "- Need to explore papers with applications in particular problem"
   ]
  },
  {
   "cell_type": "markdown",
   "metadata": {},
   "source": [
    "## Implementation\n",
    "\n",
    "- Not Done"
   ]
  }
 ],
 "metadata": {
  "kernelspec": {
   "display_name": "Python 3",
   "language": "python",
   "name": "python3"
  },
  "language_info": {
   "codemirror_mode": {
    "name": "ipython",
    "version": 3
   },
   "file_extension": ".py",
   "mimetype": "text/x-python",
   "name": "python",
   "nbconvert_exporter": "python",
   "pygments_lexer": "ipython3",
   "version": "3.5.2"
  }
 },
 "nbformat": 4,
 "nbformat_minor": 0
}
